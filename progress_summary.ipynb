{
 "cells": [
  {
   "cell_type": "markdown",
   "metadata": {},
   "source": [
    "**File to keep track of my progress**"
   ]
  },
  {
   "cell_type": "markdown",
   "metadata": {},
   "source": [
    "Thursday am: GitHub Tutorial until branching section https://www.youtube.com/watch?v=RGOj5yH7evk \n",
    "\n",
    "Thursday pm: Section 3 of Udemy : Numpy\n",
    "Friday am: Section 4 of Udemy : Pandas\n",
    "Friday pm: Finsih section 4 of Udemy, Start section 5 of Pandas: Data Visualization Pandas and working with Cmd prompt, updating Python version, managing storage and setting up working environment with extensions in Visual Studio Code\n",
    "Monday am : Section 5 of Udemy: Data Vizusalisation + Exercises\n",
    "Monday pm: Section 6 : Time Series Analysis with Pandas (Halfway done), Keyboard shortcuts for Jupyter Notebook.\n",
    "\n"
   ]
  },
  {
   "cell_type": "markdown",
   "metadata": {},
   "source": []
  }
 ],
 "metadata": {
  "language_info": {
   "name": "python"
  }
 },
 "nbformat": 4,
 "nbformat_minor": 2
}
