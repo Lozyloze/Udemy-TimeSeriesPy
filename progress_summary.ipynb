{
 "cells": [
  {
   "cell_type": "markdown",
   "metadata": {},
   "source": [
    "**File to keep track of my progress**"
   ]
  },
  {
   "cell_type": "markdown",
   "metadata": {},
   "source": [
    "Thursday am: GitHub Tutorial until branching section https://www.youtube.com/watch?v=RGOj5yH7evk \n",
    "\n",
    "Thursday pm: Section 3 of Udemy : Numpy\n",
    "Friday am: Section 4 of Udemy : Pandas\n",
    "Friday pm: Section 4 of Udemy : Pandas and working with Cmd prompt, updating Python version, managing storage and setting up working environment with extensions in Visual Studio Code"
   ]
  },
  {
   "cell_type": "markdown",
   "metadata": {},
   "source": []
  }
 ],
 "metadata": {
  "language_info": {
   "name": "python"
  }
 },
 "nbformat": 4,
 "nbformat_minor": 2
}
